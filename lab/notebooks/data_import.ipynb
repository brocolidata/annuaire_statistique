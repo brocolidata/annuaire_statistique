{
 "cells": [
  {
   "cell_type": "code",
   "execution_count": 1,
   "metadata": {},
   "outputs": [],
   "source": [
    "from io import BytesIO\n",
    "import os\n",
    "import pathlib\n",
    "import re\n",
    "import time\n",
    "\n",
    "from bs4 import BeautifulSoup\n",
    "from lxml import html\n",
    "import pandas as pd\n",
    "import rarfile\n",
    "import requests as rq"
   ]
  },
  {
   "cell_type": "code",
   "execution_count": 2,
   "metadata": {},
   "outputs": [],
   "source": [
    "HCP_HOST = \"https://www.hcp.ma\"\n",
    "ANNUAIRES_STATISTIQUES_ENDPOINT = \"downloads/?tag=Annuaires+statistiques+du+Maroc\"\n",
    "ANNUAIRES_STATISTIQUES_URL = f\"{HCP_HOST}/{ANNUAIRES_STATISTIQUES_ENDPOINT}\"\n",
    "DATA_PATH = pathlib.Path('/dataplatform_lab', 'lab', 'dwh_data')\n",
    "EXTRACTS_PATH = pathlib.Path(DATA_PATH, 'extracts')"
   ]
  },
  {
   "cell_type": "code",
   "execution_count": 3,
   "metadata": {},
   "outputs": [],
   "source": [
    "def get_io_annuaire(url:str) -> rarfile.RarFile:\n",
    "    response = rq.get(url)\n",
    "    return rarfile.RarFile(BytesIO(response.content))\n",
    "\n",
    "def extract_annuaire(url, extraction_path:pathlib.Path):\n",
    "    rar_archive = get_io_annuaire(url)\n",
    "    rar_archive.extractall(extraction_path.as_posix())\n",
    "\n",
    "def get_year_from_filename(filename):\n",
    "    year = re.findall(r'année (?P<year>\\d{4})', filename)[0]\n",
    "    return year\n",
    "\n",
    "def get_all_annuaires_urls():\n",
    "    response = rq.get(ANNUAIRES_STATISTIQUES_URL)\n",
    "    tree = html.fromstring(response.content)\n",
    "    ls_file_elements = tree.xpath(\"//div[@class='titre_fichier']/a[contains(text(),'(Format Excel)')]\")\n",
    "    dc_annuaires = {\n",
    "        get_year_from_filename(e.text):HCP_HOST+e.get('href') for e in ls_file_elements\n",
    "    }\n",
    "    return dc_annuaires\n",
    "\n",
    "def extract_all_annuaires():\n",
    "    dc_annuaires = get_all_annuaires_urls()\n",
    "\n",
    "    for year, url in dc_annuaires.items():\n",
    "        annuaire_folder_name = f\"Annuaire Statistique {year}\"\n",
    "        annuaire_path = pathlib.Path(EXTRACTS_PATH, annuaire_folder_name)\n",
    "        if not annuaire_path.exists():\n",
    "            print(f'Extracting Annuaire Statistique {year} from URL {url}')\n",
    "            extract_annuaire(url, annuaire_path)\n",
    "        else:\n",
    "            print(f'Annuaire Statistique {year} already exists in path {annuaire_path}')"
   ]
  },
  {
   "cell_type": "code",
   "execution_count": 5,
   "metadata": {},
   "outputs": [
    {
     "name": "stdout",
     "output_type": "stream",
     "text": [
      "Extracting Annuaire Statistique 2022 from URL https://www.hcp.ma/file/235856/\n",
      "Extracting Annuaire Statistique 2021 from URL https://www.hcp.ma/file/235429/\n",
      "Extracting Annuaire Statistique 2020 from URL https://www.hcp.ma/file/235427/\n",
      "Extracting Annuaire Statistique 2019 from URL https://www.hcp.ma/file/235425/\n"
     ]
    }
   ],
   "source": [
    "extract_all_annuaires()"
   ]
  }
 ],
 "metadata": {
  "kernelspec": {
   "display_name": "Python 3",
   "language": "python",
   "name": "python3"
  },
  "language_info": {
   "codemirror_mode": {
    "name": "ipython",
    "version": 3
   },
   "file_extension": ".py",
   "mimetype": "text/x-python",
   "name": "python",
   "nbconvert_exporter": "python",
   "pygments_lexer": "ipython3",
   "version": "3.10.6"
  },
  "orig_nbformat": 4
 },
 "nbformat": 4,
 "nbformat_minor": 2
}
